{
 "cells": [
  {
   "cell_type": "markdown",
   "metadata": {},
   "source": [
    "<a href=\"https://colab.research.google.com/github/PacktPublishing/Machine-Learning-for-Time-Series-with-Python/blob/master/chapter7/XGBoost.ipynb\" target=\"_parent\\\"><img src=\"https://colab.research.google.com/assets/colab-badge.svg\" alt=\"Open In Colab\"/></a>"
   ]
  },
  {
   "cell_type": "code",
   "execution_count": null,
   "metadata": {
    "id": "cjiXyuy5e2Fj",
    "outputId": "26e9d719-07e0-4a60-8005-c05a24e1e009"
   },
   "outputs": [],
   "source": [
    "!pip install xgboost"
   ]
  },
  {
   "cell_type": "code",
   "execution_count": null,
   "metadata": {
    "id": "3CaAZqSGe2Fi"
   },
   "outputs": [],
   "source": [
    "import matplotlib.pyplot as plt\n",
    "import seaborn as sns\n",
    "%matplotlib inline\n",
    "\n",
    "plt.style.use('seaborn-whitegrid')\n",
    "plt.rcParams[\"font.family\"] = \"Times New Roman\"\n",
    "plt.rcParams[\"font.size\"] = \"17\""
   ]
  },
  {
   "cell_type": "code",
   "execution_count": null,
   "metadata": {
    "id": "UpEJozDdyizN"
   },
   "outputs": [],
   "source": [
    "import pandas as pd\n",
    "\n",
    "owid_covid = pd.read_csv(\"https://covid.ourworldindata.org/data/owid-covid-data.csv\")\n",
    "owid_covid[\"date\"] = pd.to_datetime(owid_covid[\"date\"])\n",
    "df = owid_covid[owid_covid.location == \"France\"].set_index(\"date\", drop=True).resample('D').interpolate(method='linear').reset_index()"
   ]
  },
  {
   "cell_type": "code",
   "execution_count": null,
   "metadata": {
    "id": "WqB6Vwn3e2Fj"
   },
   "outputs": [],
   "source": [
    "from sklearn.base import TransformerMixin, BaseEstimator\n",
    "from typing import List\n",
    "\n",
    "class DateFeatures(TransformerMixin, BaseEstimator):\n",
    "    \"\"\"DateFeatures transformer.\"\"\"\n",
    "    features = [\n",
    "        \"hour\",\n",
    "        \"year\",\n",
    "        \"day\",\n",
    "        \"weekday\",\n",
    "        \"month\",\n",
    "        \"quarter\",\n",
    "    ]\n",
    "    \n",
    "    def __init__(self):\n",
    "        \"\"\"Nothing much to do.\"\"\"\n",
    "        super().__init__()\n",
    "        self.feature_names: List[str] = []\n",
    "\n",
    "    def get_feature_names(self):\n",
    "        \"\"\"Feature names.\"\"\"\n",
    "        return self.feature_names\n",
    "        \n",
    "    def transform(self, df: pd.DataFrame):\n",
    "        \"\"\"Annotate date features.\"\"\"\n",
    "        Xt = []\n",
    "        for col in df.columns:\n",
    "            for feature in self.features:\n",
    "                date_feature = getattr(\n",
    "                    getattr(\n",
    "                        df[col], \"dt\"\n",
    "                    ), feature\n",
    "                )\n",
    "                date_feature.name = f\"{col}_{feature}\"\n",
    "                Xt.append(date_feature)\n",
    "        \n",
    "        df2 = pd.concat(Xt, axis=1)\n",
    "        self.feature_names = list(df2.columns)\n",
    "        return df2\n",
    "\n",
    "    def fit(self, df: pd.DataFrame, y=None, **fit_params):\n",
    "        \"\"\"No fitting needed.\"\"\"\n",
    "        return self"
   ]
  },
  {
   "cell_type": "code",
   "execution_count": null,
   "metadata": {
    "id": "IhEkSi5azUrM"
   },
   "outputs": [],
   "source": [
    "import numpy as np\n",
    "from sklearn.base import TransformerMixin, BaseEstimator\n",
    "from typing import Dict\n",
    "\n",
    "class CyclicalFeatures(TransformerMixin, BaseEstimator):\n",
    "    \"\"\"CyclicalFeatures transformer.\"\"\"\n",
    "    \n",
    "    def __init__(self, max_vals: Dict[str, float] = {}):\n",
    "        \"\"\"Nothing much to do.\"\"\"\n",
    "        super().__init__()\n",
    "        self.feature_names: List[str] = []\n",
    "        self.max_vals = max_vals\n",
    "\n",
    "    def get_feature_names(self):\n",
    "        \"\"\"Feature names.\"\"\"\n",
    "        return self.feature_names\n",
    "        \n",
    "    def transform(self, df: pd.DataFrame):\n",
    "        \"\"\"Annotate date features.\"\"\"\n",
    "        Xt = []\n",
    "        for col in df.columns:\n",
    "            if col in self.max_vals:\n",
    "                max_val = self.max_vals[col]\n",
    "            else:\n",
    "                max_val = df[col].max()\n",
    "            for fun_name, fun in [(\"cos\", np.cos), (\"sin\", np.sin)]:\n",
    "                date_feature = fun(2 * np.pi * df[col] / max_val)\n",
    "                date_feature.name = f\"{col}_{fun_name}\"\n",
    "                Xt.append(date_feature)\n",
    "        \n",
    "        df2 = pd.concat(Xt, axis=1)\n",
    "        self.feature_names = list(df2.columns)\n",
    "        return df2\n",
    "\n",
    "    def fit(self, df: pd.DataFrame, y=None, **fit_params):\n",
    "        \"\"\"No fitting needed.\"\"\"\n",
    "        return self"
   ]
  },
  {
   "cell_type": "code",
   "execution_count": null,
   "metadata": {
    "id": "87bELgcAziFi"
   },
   "outputs": [],
   "source": [
    "from sklearn.compose import ColumnTransformer\n",
    "from sklearn.pipeline import Pipeline, make_pipeline\n",
    "#from sklearn import linear_model\n",
    "\n",
    "\n",
    "preprocessor = ColumnTransformer(\n",
    "    transformers=[(\n",
    "        \"date\",\n",
    "        make_pipeline(\n",
    "            DateFeatures(),\n",
    "            ColumnTransformer(transformers=[\n",
    "                (\"cyclical\", CyclicalFeatures(),\n",
    "                  [\"date_day\", \"date_weekday\", \"date_month\"]\n",
    "                )\n",
    "            ], remainder=\"passthrough\")\n",
    "        ), [\"date\"],\n",
    "  ),], remainder=\"passthrough\"\n",
    ")\n",
    "\n",
    "pipeline = Pipeline(\n",
    "    [\n",
    "        (\"preprocessing\", preprocessor),\n",
    "        #(\"clf\", linear_model.LinearRegression(),),\n",
    "    ]\n",
    ")"
   ]
  },
  {
   "cell_type": "code",
   "execution_count": null,
   "metadata": {
    "colab": {
     "base_uri": "https://localhost:8080/"
    },
    "id": "UvhfdtVre2Fj",
    "outputId": "453afa7a-c3f5-4a51-f693-55d2b7698282"
   },
   "outputs": [],
   "source": [
    "FEATURE_COLS = [\"date\"]\n",
    "date_features = pipeline.fit_transform(df[FEATURE_COLS])\n",
    "date_features"
   ]
  },
  {
   "cell_type": "code",
   "execution_count": null,
   "metadata": {
    "id": "WmhAZE-Me2Fk"
   },
   "outputs": [],
   "source": [
    "TRAIN_SIZE = int(len(df) * 0.9)\n",
    "HORIZON = 1\n",
    "TARGET_COL = \"new_cases\"\n",
    "\n",
    "X_train, X_test = df.iloc[HORIZON:TRAIN_SIZE], df.iloc[TRAIN_SIZE+HORIZON:]\n",
    "y_train = df.shift(periods=HORIZON).iloc[HORIZON:TRAIN_SIZE][TARGET_COL]\n",
    "y_test = df.shift(periods=HORIZON).iloc[TRAIN_SIZE+HORIZON:][TARGET_COL]"
   ]
  },
  {
   "cell_type": "code",
   "execution_count": null,
   "metadata": {
    "colab": {
     "base_uri": "https://localhost:8080/"
    },
    "id": "aA7GL52je2Fl",
    "outputId": "d19d55fd-a683-4eea-a087-5676a4333077"
   },
   "outputs": [],
   "source": [
    "from xgboost import XGBRegressor\n",
    "\n",
    "pipeline = Pipeline(\n",
    "    [\n",
    "        (\"preprocessing\", preprocessor),\n",
    "        (\"xgb\", XGBRegressor(objective=\"reg:squarederror\", n_estimators=1000))\n",
    "    ]\n",
    ")\n",
    "pipeline.fit(X_train[FEATURE_COLS], y_train)"
   ]
  },
  {
   "cell_type": "code",
   "execution_count": null,
   "metadata": {
    "id": "6b3PUD4CH5Gx"
   },
   "outputs": [],
   "source": [
    "MAX_HORIZON = 90\n",
    "X_test_horizon = pd.Series(pd.date_range(\n",
    "    start=df.date.min(), \n",
    "    periods=len(df) + MAX_HORIZON,\n",
    "    name=\"date\"\n",
    ")).reset_index()"
   ]
  },
  {
   "cell_type": "code",
   "execution_count": null,
   "metadata": {
    "id": "t8VoXOzCe2Fl"
   },
   "outputs": [],
   "source": [
    "forecasted = pd.concat(\n",
    "    [pd.Series(pipeline.predict(X_test_horizon[FEATURE_COLS])), pd.Series(X_test_horizon.date)],\n",
    "    axis=1\n",
    ")\n",
    "forecasted.columns = [TARGET_COL, \"date\"]"
   ]
  },
  {
   "cell_type": "code",
   "execution_count": null,
   "metadata": {
    "id": "7FGnoSbre2Fl"
   },
   "outputs": [],
   "source": [
    "actual = pd.concat(\n",
    "    [pd.Series(df[TARGET_COL]), pd.Series(df.date)],\n",
    "    axis=1\n",
    ")\n",
    "actual.columns = [TARGET_COL, \"date\"]"
   ]
  },
  {
   "cell_type": "code",
   "execution_count": null,
   "metadata": {
    "colab": {
     "base_uri": "https://localhost:8080/",
     "height": 443
    },
    "id": "XtTKGkoTe2Fm",
    "outputId": "4c3c830f-3df9-4c5b-ad06-41cd623e5e70"
   },
   "outputs": [],
   "source": [
    "fig, ax = plt.subplots(figsize=(12, 6))\n",
    "forecasted.set_index(\"date\").plot(linestyle='--', ax=ax)\n",
    "actual.set_index(\"date\").plot(linestyle='-.', ax=ax)\n",
    "plt.legend([\"forecast\", \"actual\"])"
   ]
  },
  {
   "cell_type": "code",
   "execution_count": null,
   "metadata": {
    "colab": {
     "base_uri": "https://localhost:8080/"
    },
    "id": "B4oPSOTse2F1",
    "outputId": "ad6760a9-e9a8-4cd8-812f-39fce7c4e636"
   },
   "outputs": [],
   "source": [
    "from sklearn.metrics import mean_squared_error\n",
    "\n",
    "test_data = actual.merge(forecasted, on=\"date\", suffixes=(\"_actual\", \"_predicted\"))\n",
    "\n",
    "mse = mean_squared_error(test_data.new_cases_actual, test_data.new_cases_predicted, squared=False)  # RMSE\n",
    "print(\"The root mean squared error (RMSE) on test set: {:.2f}\".format(mse))"
   ]
  },
  {
   "cell_type": "code",
   "execution_count": null,
   "metadata": {
    "id": "HU1DQT1o5Vpn"
   },
   "outputs": [],
   "source": []
  },
  {
   "cell_type": "code",
   "execution_count": null,
   "metadata": {},
   "outputs": [],
   "source": []
  }
 ],
 "metadata": {
  "colab": {
   "collapsed_sections": [],
   "name": "XGBoost",
   "provenance": []
  },
  "kernelspec": {
   "display_name": "Python 3",
   "language": "python",
   "name": "python3"
  },
  "language_info": {
   "codemirror_mode": {
    "name": "ipython",
    "version": 3
   },
   "file_extension": ".py",
   "mimetype": "text/x-python",
   "name": "python",
   "nbconvert_exporter": "python",
   "pygments_lexer": "ipython3",
   "version": "3.8.8"
  }
 },
 "nbformat": 4,
 "nbformat_minor": 4
}
