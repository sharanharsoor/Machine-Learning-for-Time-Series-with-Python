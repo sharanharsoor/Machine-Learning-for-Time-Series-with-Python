{
 "cells": [
  {
   "cell_type": "markdown",
   "id": "7ea3881f-ddfc-475b-bfa9-bb46456ffee4",
   "metadata": {},
   "source": [
    "<a href=\"https://colab.research.google.com/github/PacktPublishing/Machine-Learning-for-Time-Series-with-Python/blob/master/chapter7/Kats.ipynb\" target=\"_parent\\\"><img src=\"https://colab.research.google.com/assets/colab-badge.svg\" alt=\"Open In Colab\"/></a>"
   ]
  },
  {
   "cell_type": "code",
   "execution_count": 1,
   "id": "bde1b68e-20b6-42e1-a5a8-81824e365545",
   "metadata": {
    "colab": {
     "base_uri": "https://localhost:8080/"
    },
    "id": "bde1b68e-20b6-42e1-a5a8-81824e365545",
    "outputId": "f290afb2-8026-4792-e11f-2b5572336c3a"
   },
   "outputs": [
    {
     "name": "stdout",
     "output_type": "stream",
     "text": [
      "Collecting kats\n",
      "  Downloading kats-0.1.0.tar.gz (6.3 MB)\n",
      "\u001b[K     |████████████████████████████████| 6.3 MB 2.5 MB/s eta 0:00:01\n",
      "\u001b[?25hCollecting LunarCalendar>=0.0.9\n",
      "  Downloading LunarCalendar-0.0.9-py2.py3-none-any.whl (18 kB)\n",
      "Collecting attrs>=21.2.0\n",
      "  Downloading attrs-21.4.0-py2.py3-none-any.whl (60 kB)\n",
      "\u001b[K     |████████████████████████████████| 60 kB 12.2 MB/s eta 0:00:01\n",
      "\u001b[?25hCollecting ax-platform\n",
      "  Downloading ax_platform-0.2.3-py3-none-any.whl (934 kB)\n",
      "\u001b[K     |████████████████████████████████| 934 kB 38.0 MB/s eta 0:00:01\n",
      "\u001b[?25hRequirement already satisfied: convertdate>=2.1.2 in /Users/sharanh/opt/anaconda3/lib/python3.8/site-packages (from kats) (2.4.0)\n",
      "Collecting fbprophet==0.7\n",
      "  Downloading fbprophet-0.7.tar.gz (64 kB)\n",
      "\u001b[K     |████████████████████████████████| 64 kB 4.1 MB/s  eta 0:00:01\n",
      "\u001b[?25hCollecting gpytorch\n",
      "  Downloading gpytorch-1.6.0.tar.gz (310 kB)\n",
      "\u001b[K     |████████████████████████████████| 310 kB 32.2 MB/s eta 0:00:01\n",
      "\u001b[?25hRequirement already satisfied: holidays>=0.10.2 in /Users/sharanh/opt/anaconda3/lib/python3.8/site-packages (from kats) (0.13)\n",
      "Requirement already satisfied: matplotlib>=2.0.0 in /Users/sharanh/opt/anaconda3/lib/python3.8/site-packages (from kats) (3.5.1)\n",
      "Requirement already satisfied: numpy>=1.15.4 in /Users/sharanh/opt/anaconda3/lib/python3.8/site-packages (from kats) (1.21.5)\n",
      "Requirement already satisfied: numba>=0.52.0 in /Users/sharanh/opt/anaconda3/lib/python3.8/site-packages (from kats) (0.53.1)\n",
      "Requirement already satisfied: pandas>=1.0.4 in /Users/sharanh/opt/anaconda3/lib/python3.8/site-packages (from kats) (1.3.5)\n",
      "Requirement already satisfied: plotly>=4.14.3 in /Users/sharanh/opt/anaconda3/lib/python3.8/site-packages (from kats) (5.3.1)\n",
      "Collecting pymannkendall>=1.4.1\n",
      "  Downloading pymannkendall-1.4.2-py3-none-any.whl (12 kB)\n",
      "Collecting pystan==2.19.1.1\n",
      "  Downloading pystan-2.19.1.1-cp38-cp38-macosx_10_9_x86_64.whl (37.4 MB)\n",
      "\u001b[K     |████████████████████████████████| 37.4 MB 2.8 MB/s eta 0:00:011��███████████▋                  | 15.9 MB 17.4 MB/s eta 0:00:02\n",
      "\u001b[?25hRequirement already satisfied: python-dateutil>=2.8.0 in /Users/sharanh/opt/anaconda3/lib/python3.8/site-packages (from kats) (2.8.1)\n",
      "Requirement already satisfied: scikit-learn>+0.24.2 in /Users/sharanh/opt/anaconda3/lib/python3.8/site-packages (from kats) (1.0.2)\n",
      "Collecting setuptools-git>=1.2\n",
      "  Downloading setuptools_git-1.2-py2.py3-none-any.whl (10 kB)\n",
      "Requirement already satisfied: seaborn>=0.11.1 in /Users/sharanh/opt/anaconda3/lib/python3.8/site-packages (from kats) (0.11.2)\n",
      "Requirement already satisfied: statsmodels>=0.12.2 in /Users/sharanh/opt/anaconda3/lib/python3.8/site-packages (from kats) (0.13.2)\n",
      "Requirement already satisfied: torch>=1.8.1 in /Users/sharanh/opt/anaconda3/lib/python3.8/site-packages (from kats) (1.10.1)\n",
      "Requirement already satisfied: tqdm>=4.36.1 in /Users/sharanh/opt/anaconda3/lib/python3.8/site-packages (from kats) (4.59.0)\n",
      "Requirement already satisfied: Cython>=0.22 in /Users/sharanh/opt/anaconda3/lib/python3.8/site-packages (from fbprophet==0.7->kats) (0.29.23)\n",
      "Collecting cmdstanpy==0.9.5\n",
      "  Downloading cmdstanpy-0.9.5-py3-none-any.whl (37 kB)\n",
      "Requirement already satisfied: pymeeus<=1,>=0.3.13 in /Users/sharanh/opt/anaconda3/lib/python3.8/site-packages (from convertdate>=2.1.2->kats) (0.5.11)\n",
      "Requirement already satisfied: korean-lunar-calendar in /Users/sharanh/opt/anaconda3/lib/python3.8/site-packages (from holidays>=0.10.2->kats) (0.2.1)\n",
      "Requirement already satisfied: hijri-converter in /Users/sharanh/opt/anaconda3/lib/python3.8/site-packages (from holidays>=0.10.2->kats) (2.2.3)\n",
      "Requirement already satisfied: ephem>=3.7.5.3 in /Users/sharanh/opt/anaconda3/lib/python3.8/site-packages (from LunarCalendar>=0.0.9->kats) (4.1.3)\n",
      "Requirement already satisfied: pytz in /Users/sharanh/opt/anaconda3/lib/python3.8/site-packages (from LunarCalendar>=0.0.9->kats) (2021.1)\n",
      "Requirement already satisfied: cycler>=0.10 in /Users/sharanh/opt/anaconda3/lib/python3.8/site-packages (from matplotlib>=2.0.0->kats) (0.10.0)\n",
      "Requirement already satisfied: fonttools>=4.22.0 in /Users/sharanh/opt/anaconda3/lib/python3.8/site-packages (from matplotlib>=2.0.0->kats) (4.29.1)\n",
      "Requirement already satisfied: kiwisolver>=1.0.1 in /Users/sharanh/opt/anaconda3/lib/python3.8/site-packages (from matplotlib>=2.0.0->kats) (1.3.1)\n",
      "Requirement already satisfied: pyparsing>=2.2.1 in /Users/sharanh/opt/anaconda3/lib/python3.8/site-packages (from matplotlib>=2.0.0->kats) (2.4.7)\n",
      "Requirement already satisfied: packaging>=20.0 in /Users/sharanh/opt/anaconda3/lib/python3.8/site-packages (from matplotlib>=2.0.0->kats) (21.3)\n",
      "Requirement already satisfied: pillow>=6.2.0 in /Users/sharanh/opt/anaconda3/lib/python3.8/site-packages (from matplotlib>=2.0.0->kats) (8.2.0)\n",
      "Requirement already satisfied: six in /Users/sharanh/opt/anaconda3/lib/python3.8/site-packages (from cycler>=0.10->matplotlib>=2.0.0->kats) (1.15.0)\n",
      "Requirement already satisfied: setuptools in /Users/sharanh/opt/anaconda3/lib/python3.8/site-packages (from numba>=0.52.0->kats) (52.0.0.post20210125)\n",
      "Requirement already satisfied: llvmlite<0.37,>=0.36.0rc1 in /Users/sharanh/opt/anaconda3/lib/python3.8/site-packages (from numba>=0.52.0->kats) (0.36.0)\n",
      "Requirement already satisfied: tenacity>=6.2.0 in /Users/sharanh/opt/anaconda3/lib/python3.8/site-packages (from plotly>=4.14.3->kats) (8.0.1)\n",
      "Requirement already satisfied: scipy in /Users/sharanh/opt/anaconda3/lib/python3.8/site-packages (from pymannkendall>=1.4.1->kats) (1.7.3)\n",
      "Requirement already satisfied: threadpoolctl>=2.0.0 in /Users/sharanh/opt/anaconda3/lib/python3.8/site-packages (from scikit-learn>+0.24.2->kats) (2.1.0)\n",
      "Requirement already satisfied: joblib>=0.11 in /Users/sharanh/opt/anaconda3/lib/python3.8/site-packages (from scikit-learn>+0.24.2->kats) (1.0.1)\n",
      "Requirement already satisfied: patsy>=0.5.2 in /Users/sharanh/opt/anaconda3/lib/python3.8/site-packages (from statsmodels>=0.12.2->kats) (0.5.2)\n",
      "Requirement already satisfied: typing-extensions in /Users/sharanh/opt/anaconda3/lib/python3.8/site-packages (from torch>=1.8.1->kats) (3.7.4.3)\n",
      "Collecting typeguard\n",
      "  Downloading typeguard-2.13.3-py3-none-any.whl (17 kB)\n",
      "Collecting botorch==0.6.0\n",
      "  Downloading botorch-0.6.0-py3-none-any.whl (325 kB)\n",
      "\u001b[K     |████████████████████████████████| 325 kB 32.6 MB/s eta 0:00:01\n",
      "\u001b[?25hRequirement already satisfied: jinja2 in /Users/sharanh/opt/anaconda3/lib/python3.8/site-packages (from ax-platform->kats) (2.11.3)\n",
      "Requirement already satisfied: MarkupSafe>=0.23 in /Users/sharanh/opt/anaconda3/lib/python3.8/site-packages (from jinja2->ax-platform->kats) (1.1.1)\n",
      "Building wheels for collected packages: kats, fbprophet, gpytorch\n",
      "  Building wheel for kats (setup.py) ... \u001b[?25ldone\n",
      "\u001b[?25h  Created wheel for kats: filename=kats-0.1.0-py3-none-any.whl size=286600 sha256=4dea6fc9a4a63580d041ac846c851bfd890f4a65b5ee86c795f0023499ece14e\n",
      "  Stored in directory: /Users/sharanh/Library/Caches/pip/wheels/f9/3e/4a/7f382a87477e6ea297d55b0f55d0837d297f6add0382c9a99a\n",
      "  Building wheel for fbprophet (setup.py) ... \u001b[?25lerror\n",
      "\u001b[31m  ERROR: Command errored out with exit status 1:\n",
      "   command: /Users/sharanh/opt/anaconda3/bin/python -u -c 'import sys, setuptools, tokenize; sys.argv[0] = '\"'\"'/private/var/folders/n3/s_d3m7b16l72jp8w_r7bm0kw0000gn/T/pip-install-cbs_qxho/fbprophet_4e92bdd1dad749a1bc378c6aae08c538/setup.py'\"'\"'; __file__='\"'\"'/private/var/folders/n3/s_d3m7b16l72jp8w_r7bm0kw0000gn/T/pip-install-cbs_qxho/fbprophet_4e92bdd1dad749a1bc378c6aae08c538/setup.py'\"'\"';f=getattr(tokenize, '\"'\"'open'\"'\"', open)(__file__);code=f.read().replace('\"'\"'\\r\\n'\"'\"', '\"'\"'\\n'\"'\"');f.close();exec(compile(code, __file__, '\"'\"'exec'\"'\"'))' bdist_wheel -d /private/var/folders/n3/s_d3m7b16l72jp8w_r7bm0kw0000gn/T/pip-wheel-eghd1q54\n",
      "       cwd: /private/var/folders/n3/s_d3m7b16l72jp8w_r7bm0kw0000gn/T/pip-install-cbs_qxho/fbprophet_4e92bdd1dad749a1bc378c6aae08c538/\n",
      "  Complete output (38 lines):\n",
      "  running bdist_wheel\n",
      "  running build\n",
      "  running build_py\n",
      "  creating build\n",
      "  creating build/lib\n",
      "  creating build/lib/fbprophet\n",
      "  creating build/lib/fbprophet/stan_model\n",
      "  Traceback (most recent call last):\n",
      "    File \"<string>\", line 1, in <module>\n",
      "    File \"/private/var/folders/n3/s_d3m7b16l72jp8w_r7bm0kw0000gn/T/pip-install-cbs_qxho/fbprophet_4e92bdd1dad749a1bc378c6aae08c538/setup.py\", line 122, in <module>\n",
      "      setup(\n",
      "    File \"/Users/sharanh/opt/anaconda3/lib/python3.8/site-packages/setuptools/__init__.py\", line 153, in setup\n",
      "      return distutils.core.setup(**attrs)\n",
      "    File \"/Users/sharanh/opt/anaconda3/lib/python3.8/distutils/core.py\", line 148, in setup\n",
      "      dist.run_commands()\n",
      "    File \"/Users/sharanh/opt/anaconda3/lib/python3.8/distutils/dist.py\", line 966, in run_commands\n",
      "      self.run_command(cmd)\n",
      "    File \"/Users/sharanh/opt/anaconda3/lib/python3.8/distutils/dist.py\", line 985, in run_command\n",
      "      cmd_obj.run()\n",
      "    File \"/Users/sharanh/opt/anaconda3/lib/python3.8/site-packages/wheel/bdist_wheel.py\", line 299, in run\n",
      "      self.run_command('build')\n",
      "    File \"/Users/sharanh/opt/anaconda3/lib/python3.8/distutils/cmd.py\", line 313, in run_command\n",
      "      self.distribution.run_command(command)\n",
      "    File \"/Users/sharanh/opt/anaconda3/lib/python3.8/distutils/dist.py\", line 985, in run_command\n",
      "      cmd_obj.run()\n",
      "    File \"/Users/sharanh/opt/anaconda3/lib/python3.8/distutils/command/build.py\", line 135, in run\n",
      "      self.run_command(cmd_name)\n",
      "    File \"/Users/sharanh/opt/anaconda3/lib/python3.8/distutils/cmd.py\", line 313, in run_command\n",
      "      self.distribution.run_command(command)\n",
      "    File \"/Users/sharanh/opt/anaconda3/lib/python3.8/distutils/dist.py\", line 985, in run_command\n",
      "      cmd_obj.run()\n",
      "    File \"/private/var/folders/n3/s_d3m7b16l72jp8w_r7bm0kw0000gn/T/pip-install-cbs_qxho/fbprophet_4e92bdd1dad749a1bc378c6aae08c538/setup.py\", line 48, in run\n",
      "      build_models(target_dir)\n",
      "    File \"/private/var/folders/n3/s_d3m7b16l72jp8w_r7bm0kw0000gn/T/pip-install-cbs_qxho/fbprophet_4e92bdd1dad749a1bc378c6aae08c538/setup.py\", line 38, in build_models\n",
      "      StanBackendEnum.get_backend_class(backend).build_model(target_dir, MODEL_DIR)\n",
      "    File \"/private/var/folders/n3/s_d3m7b16l72jp8w_r7bm0kw0000gn/T/pip-install-cbs_qxho/fbprophet_4e92bdd1dad749a1bc378c6aae08c538/fbprophet/models.py\", line 209, in build_model\n",
      "      import pystan\n",
      "  ModuleNotFoundError: No module named 'pystan'\n",
      "  ----------------------------------------\u001b[0m\n",
      "\u001b[31m  ERROR: Failed building wheel for fbprophet\u001b[0m\n",
      "\u001b[?25h  Running setup.py clean for fbprophet\n",
      "  Building wheel for gpytorch (setup.py) ... \u001b[?25ldone\n",
      "\u001b[?25h  Created wheel for gpytorch: filename=gpytorch-1.6.0-py2.py3-none-any.whl size=509877 sha256=787e87d49fb77ba573e2aa8a88e7cc5a32f330d5525075ccd07d893f93a0d78a\n",
      "  Stored in directory: /Users/sharanh/Library/Caches/pip/wheels/fb/fe/ac/09e58c64743aa0b4244554d81558cd6119a3d1bdee5ddf600b\n",
      "Successfully built kats gpytorch\n",
      "Failed to build fbprophet\n",
      "Installing collected packages: gpytorch, typeguard, setuptools-git, pystan, LunarCalendar, cmdstanpy, botorch, pymannkendall, fbprophet, ax-platform, attrs, kats\n",
      "    Running setup.py install for fbprophet ... \u001b[?25ldone\n",
      "\u001b[33m  DEPRECATION: fbprophet was installed using the legacy 'setup.py install' method, because a wheel could not be built for it. A possible replacement is to fix the wheel build issue reported above. You can find discussion regarding this at https://github.com/pypa/pip/issues/8368.\u001b[0m\n",
      "\u001b[?25h  Attempting uninstall: attrs\n",
      "    Found existing installation: attrs 20.3.0\n",
      "    Uninstalling attrs-20.3.0:\n",
      "      Successfully uninstalled attrs-20.3.0\n",
      "\u001b[31mERROR: pip's dependency resolver does not currently take into account all the packages that are installed. This behaviour is the source of the following dependency conflicts.\n",
      "greykite 0.3.0 requires pandas<1.3,>=1.1.3, but you have pandas 1.3.5 which is incompatible.\u001b[0m\n",
      "Successfully installed LunarCalendar-0.0.9 attrs-21.4.0 ax-platform-0.2.3 botorch-0.6.0 cmdstanpy-0.9.5 fbprophet-0.7 gpytorch-1.6.0 kats-0.1.0 pymannkendall-1.4.2 pystan-2.19.1.1 setuptools-git-1.2 typeguard-2.13.3\n"
     ]
    }
   ],
   "source": [
    "!MINIMAL=1 pip install kats"
   ]
  },
  {
   "cell_type": "code",
   "execution_count": 3,
   "id": "Jb7RFf_D-YzN",
   "metadata": {
    "colab": {
     "base_uri": "https://localhost:8080/"
    },
    "id": "Jb7RFf_D-YzN",
    "outputId": "681437c3-35c7-461a-f512-170d929c1a38"
   },
   "outputs": [
    {
     "name": "stdout",
     "output_type": "stream",
     "text": [
      "Collecting numpy==1.20\n",
      "  Using cached numpy-1.20.0-cp38-cp38-macosx_10_9_x86_64.whl (16.0 MB)\n",
      "Installing collected packages: numpy\n",
      "  Attempting uninstall: numpy\n",
      "    Found existing installation: numpy 1.20.1\n",
      "    Uninstalling numpy-1.20.1:\n",
      "      Successfully uninstalled numpy-1.20.1\n",
      "\u001b[31mERROR: pip's dependency resolver does not currently take into account all the packages that are installed. This behaviour is the source of the following dependency conflicts.\n",
      "sktime 0.10.0 requires numpy<1.22,>=1.21.0, but you have numpy 1.20.0 which is incompatible.\n",
      "greykite 0.3.0 requires pandas<1.3,>=1.1.3, but you have pandas 1.3.5 which is incompatible.\n",
      "featuretools 1.4.1 requires numpy>=1.21.0, but you have numpy 1.20.0 which is incompatible.\n",
      "featuretools-tsfresh-primitives 1.0.2 requires tsfresh>=0.19.0, but you have tsfresh 0.18.0 which is incompatible.\u001b[0m\n",
      "Successfully installed numpy-1.20.0\n"
     ]
    }
   ],
   "source": [
    "!pip install \"numpy==1.20\""
   ]
  },
  {
   "cell_type": "code",
   "execution_count": 4,
   "id": "e9f62717-49c6-4a08-bd69-67a4c3ebe2d5",
   "metadata": {
    "id": "e9f62717-49c6-4a08-bd69-67a4c3ebe2d5"
   },
   "outputs": [],
   "source": [
    "import matplotlib.pyplot as plt\n",
    "import seaborn as sns\n",
    "%matplotlib inline\n",
    "\n",
    "plt.style.use('seaborn-whitegrid')\n",
    "plt.rcParams[\"font.family\"] = \"Times New Roman\"\n",
    "plt.rcParams[\"font.size\"] = \"17\""
   ]
  },
  {
   "cell_type": "code",
   "execution_count": 5,
   "id": "2045898b-51b2-446a-bf30-4102725d36d9",
   "metadata": {
    "id": "2045898b-51b2-446a-bf30-4102725d36d9"
   },
   "outputs": [],
   "source": [
    "import pandas as pd\n",
    "\n",
    "owid_covid = pd.read_csv(\"https://covid.ourworldindata.org/data/owid-covid-data.csv\")\n",
    "owid_covid[\"date\"] = pd.to_datetime(owid_covid[\"date\"])\n",
    "df = owid_covid[owid_covid.location == \"France\"].set_index(\"date\", drop=True).resample('D').interpolate(method='linear').reset_index()"
   ]
  },
  {
   "cell_type": "code",
   "execution_count": 6,
   "id": "d196768c-ccd4-487b-b88a-825f3280f8b8",
   "metadata": {
    "id": "d196768c-ccd4-487b-b88a-825f3280f8b8"
   },
   "outputs": [],
   "source": [
    "from kats.models.ensemble.ensemble import EnsembleParams, BaseModelParams\n",
    "from kats.models.ensemble.kats_ensemble import KatsEnsemble\n",
    "from kats.models import (\n",
    "    linear_model,\n",
    "    quadratic_model\n",
    ")\n",
    "\n",
    "\n",
    "model_params = EnsembleParams(\n",
    "            [\n",
    "                BaseModelParams(\"linear\", linear_model.LinearModelParams()),\n",
    "                BaseModelParams(\"quadratic\", quadratic_model.QuadraticModelParams()),\n",
    "            ]\n",
    "        )\n",
    "\n",
    "# create `KatsEnsembleParam` with detailed configurations \n",
    "KatsEnsembleParam = {\n",
    "    \"models\": model_params,\n",
    "    \"aggregation\": \"weightedavg\",\n",
    "    \"seasonality_length\": 30,\n",
    "    \"decomposition_method\": \"additive\",\n",
    "}"
   ]
  },
  {
   "cell_type": "code",
   "execution_count": 7,
   "id": "8379225b-c620-491f-8357-b4ac822deb50",
   "metadata": {
    "id": "8379225b-c620-491f-8357-b4ac822deb50"
   },
   "outputs": [],
   "source": [
    "from kats.consts import TimeSeriesData\n",
    "TARGET_COL = \"new_cases\"\n",
    "\n",
    "df_ts = TimeSeriesData(\n",
    "    value=df[TARGET_COL], time=df[\"date\"]\n",
    ")"
   ]
  },
  {
   "cell_type": "code",
   "execution_count": 8,
   "id": "b03eca14-47e3-4280-a178-3b78e9f4d58f",
   "metadata": {
    "colab": {
     "base_uri": "https://localhost:8080/"
    },
    "id": "b03eca14-47e3-4280-a178-3b78e9f4d58f",
    "outputId": "be5d4373-935c-497c-f706-d2522e37c5c5"
   },
   "outputs": [
    {
     "name": "stderr",
     "output_type": "stream",
     "text": [
      "/Users/sharanh/opt/anaconda3/lib/python3.8/site-packages/kats/models/ensemble/kats_ensemble.py:797: RuntimeWarning:\n",
      "\n",
      "invalid value encountered in double_scalars\n",
      "\n"
     ]
    }
   ],
   "source": [
    "m = KatsEnsemble(\n",
    "    data=df_ts, \n",
    "    params=KatsEnsembleParam\n",
    ").fit()"
   ]
  },
  {
   "cell_type": "code",
   "execution_count": 9,
   "id": "I-QkTf2kBiRE",
   "metadata": {
    "colab": {
     "base_uri": "https://localhost:8080/",
     "height": 419
    },
    "id": "I-QkTf2kBiRE",
    "outputId": "a42a5154-4f23-466b-cf00-9d9616ab84f4"
   },
   "outputs": [
    {
     "data": {
      "text/html": [
       "<div>\n",
       "<style scoped>\n",
       "    .dataframe tbody tr th:only-of-type {\n",
       "        vertical-align: middle;\n",
       "    }\n",
       "\n",
       "    .dataframe tbody tr th {\n",
       "        vertical-align: top;\n",
       "    }\n",
       "\n",
       "    .dataframe thead th {\n",
       "        text-align: right;\n",
       "    }\n",
       "</style>\n",
       "<table border=\"1\" class=\"dataframe\">\n",
       "  <thead>\n",
       "    <tr style=\"text-align: right;\">\n",
       "      <th></th>\n",
       "      <th>time</th>\n",
       "      <th>fcst</th>\n",
       "      <th>fcst_lower</th>\n",
       "      <th>fcst_upper</th>\n",
       "    </tr>\n",
       "  </thead>\n",
       "  <tbody>\n",
       "    <tr>\n",
       "      <th>0</th>\n",
       "      <td>2022-02-18</td>\n",
       "      <td>NaN</td>\n",
       "      <td>NaN</td>\n",
       "      <td>NaN</td>\n",
       "    </tr>\n",
       "    <tr>\n",
       "      <th>1</th>\n",
       "      <td>2022-02-19</td>\n",
       "      <td>NaN</td>\n",
       "      <td>NaN</td>\n",
       "      <td>NaN</td>\n",
       "    </tr>\n",
       "    <tr>\n",
       "      <th>2</th>\n",
       "      <td>2022-02-20</td>\n",
       "      <td>NaN</td>\n",
       "      <td>NaN</td>\n",
       "      <td>NaN</td>\n",
       "    </tr>\n",
       "    <tr>\n",
       "      <th>3</th>\n",
       "      <td>2022-02-21</td>\n",
       "      <td>NaN</td>\n",
       "      <td>NaN</td>\n",
       "      <td>NaN</td>\n",
       "    </tr>\n",
       "    <tr>\n",
       "      <th>4</th>\n",
       "      <td>2022-02-22</td>\n",
       "      <td>NaN</td>\n",
       "      <td>NaN</td>\n",
       "      <td>NaN</td>\n",
       "    </tr>\n",
       "    <tr>\n",
       "      <th>...</th>\n",
       "      <td>...</td>\n",
       "      <td>...</td>\n",
       "      <td>...</td>\n",
       "      <td>...</td>\n",
       "    </tr>\n",
       "    <tr>\n",
       "      <th>85</th>\n",
       "      <td>2022-05-14</td>\n",
       "      <td>NaN</td>\n",
       "      <td>NaN</td>\n",
       "      <td>NaN</td>\n",
       "    </tr>\n",
       "    <tr>\n",
       "      <th>86</th>\n",
       "      <td>2022-05-15</td>\n",
       "      <td>NaN</td>\n",
       "      <td>NaN</td>\n",
       "      <td>NaN</td>\n",
       "    </tr>\n",
       "    <tr>\n",
       "      <th>87</th>\n",
       "      <td>2022-05-16</td>\n",
       "      <td>NaN</td>\n",
       "      <td>NaN</td>\n",
       "      <td>NaN</td>\n",
       "    </tr>\n",
       "    <tr>\n",
       "      <th>88</th>\n",
       "      <td>2022-05-17</td>\n",
       "      <td>NaN</td>\n",
       "      <td>NaN</td>\n",
       "      <td>NaN</td>\n",
       "    </tr>\n",
       "    <tr>\n",
       "      <th>89</th>\n",
       "      <td>2022-05-18</td>\n",
       "      <td>NaN</td>\n",
       "      <td>NaN</td>\n",
       "      <td>NaN</td>\n",
       "    </tr>\n",
       "  </tbody>\n",
       "</table>\n",
       "<p>90 rows × 4 columns</p>\n",
       "</div>"
      ],
      "text/plain": [
       "         time  fcst  fcst_lower  fcst_upper\n",
       "0  2022-02-18   NaN         NaN         NaN\n",
       "1  2022-02-19   NaN         NaN         NaN\n",
       "2  2022-02-20   NaN         NaN         NaN\n",
       "3  2022-02-21   NaN         NaN         NaN\n",
       "4  2022-02-22   NaN         NaN         NaN\n",
       "..        ...   ...         ...         ...\n",
       "85 2022-05-14   NaN         NaN         NaN\n",
       "86 2022-05-15   NaN         NaN         NaN\n",
       "87 2022-05-16   NaN         NaN         NaN\n",
       "88 2022-05-17   NaN         NaN         NaN\n",
       "89 2022-05-18   NaN         NaN         NaN\n",
       "\n",
       "[90 rows x 4 columns]"
      ]
     },
     "execution_count": 9,
     "metadata": {},
     "output_type": "execute_result"
    }
   ],
   "source": [
    "m.predict(steps=90).aggregate()"
   ]
  },
  {
   "cell_type": "code",
   "execution_count": 10,
   "id": "c6c05f39-8e78-40cd-a43c-0ae2eed3c200",
   "metadata": {
    "colab": {
     "base_uri": "https://localhost:8080/",
     "height": 426
    },
    "id": "c6c05f39-8e78-40cd-a43c-0ae2eed3c200",
    "outputId": "f9454627-6e0e-4217-e789-80802cd87d22"
   },
   "outputs": [
    {
     "data": {
      "text/plain": [
       "Text(31.5, 0.5, 'new_cases')"
      ]
     },
     "execution_count": 10,
     "metadata": {},
     "output_type": "execute_result"
    },
    {
     "data": {
      "image/png": "[encoded data removed]",
      "text/plain": [
       "<Figure size 720x432 with 1 Axes>"
      ]
     },
     "metadata": {},
     "output_type": "display_data"
    }
   ],
   "source": [
    "m.predict(steps=90)\n",
    "m.aggregate()\n",
    "m.plot()\n",
    "plt.ylabel(TARGET_COL)"
   ]
  },
  {
   "cell_type": "code",
   "execution_count": null,
   "id": "22489efc-329a-43d7-8524-ebc46a7d0494",
   "metadata": {
    "id": "22489efc-329a-43d7-8524-ebc46a7d0494"
   },
   "outputs": [],
   "source": []
  },
  {
   "cell_type": "code",
   "execution_count": null,
   "id": "8d69d5a1-0a44-48f7-8614-cc95c5a40bf5",
   "metadata": {},
   "outputs": [],
   "source": []
  }
 ],
 "metadata": {
  "colab": {
   "collapsed_sections": [],
   "name": "Kats",
   "provenance": []
  },
  "kernelspec": {
   "display_name": "Python 3",
   "language": "python",
   "name": "python3"
  },
  "language_info": {
   "codemirror_mode": {
    "name": "ipython",
    "version": 3
   },
   "file_extension": ".py",
   "mimetype": "text/x-python",
   "name": "python",
   "nbconvert_exporter": "python",
   "pygments_lexer": "ipython3",
   "version": "3.8.8"
  }
 },
 "nbformat": 4,
 "nbformat_minor": 5
}
